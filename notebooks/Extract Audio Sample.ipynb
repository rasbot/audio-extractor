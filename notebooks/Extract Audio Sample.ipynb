{
 "cells": [
  {
   "cell_type": "code",
   "execution_count": 1,
   "metadata": {},
   "outputs": [],
   "source": [
    "import src.audio_extractor as ae"
   ]
  },
  {
   "cell_type": "code",
   "execution_count": 2,
   "metadata": {},
   "outputs": [],
   "source": [
    "vid_path = \"d:/video\"\n",
    "audio_path = \"d:/extracted-audio\"\n",
    "d = {'artist': 'Brad Neely', 'album': 'Superdeluxe'}\n",
    "extractor = ae.AudioExtractor(vid_path, audio_path, d)"
   ]
  },
  {
   "cell_type": "code",
   "execution_count": 3,
   "metadata": {},
   "outputs": [
    {
     "name": "stderr",
     "output_type": "stream",
     "text": [
      "chunk:   2%|█▊                                                                       | 102/4105 [00:00<00:04, 968.37it/s, now=None]"
     ]
    },
    {
     "name": "stdout",
     "output_type": "stream",
     "text": [
      "Extracting audio...\n",
      "MoviePy - Writing audio in d:/extracted-audio/Baby.Cakes.Diary.1.superdeluxe.mp3\n"
     ]
    },
    {
     "name": "stderr",
     "output_type": "stream",
     "text": [
      "                                                                                                                                   "
     ]
    },
    {
     "name": "stdout",
     "output_type": "stream",
     "text": [
      "MoviePy - Done.\n",
      "Finished extracting audio!\n"
     ]
    },
    {
     "name": "stderr",
     "output_type": "stream",
     "text": [
      "\r"
     ]
    }
   ],
   "source": [
    "extractor.extract_and_tag()"
   ]
  },
  {
   "cell_type": "code",
   "execution_count": 4,
   "metadata": {},
   "outputs": [
    {
     "name": "stdout",
     "output_type": "stream",
     "text": [
      "Artist: Brad Neely\n",
      "Album: Superdeluxe\n",
      "Title: Baby.Cakes.Diary.1.superdeluxe\n"
     ]
    }
   ],
   "source": [
    "import eyed3\n",
    "\n",
    "audiofile = eyed3.load(\"d:/extracted-audio/Baby.Cakes.Diary.1.superdeluxe.mp3\")\n",
    "\n",
    "print(\"Artist:\", audiofile.tag.artist)\n",
    "print(\"Album:\", audiofile.tag.album)\n",
    "print(\"Title:\", audiofile.tag.title)"
   ]
  },
  {
   "cell_type": "code",
   "execution_count": null,
   "metadata": {},
   "outputs": [],
   "source": []
  }
 ],
 "metadata": {
  "kernelspec": {
   "display_name": "Python 3",
   "language": "python",
   "name": "python3"
  },
  "language_info": {
   "codemirror_mode": {
    "name": "ipython",
    "version": 3
   },
   "file_extension": ".py",
   "mimetype": "text/x-python",
   "name": "python",
   "nbconvert_exporter": "python",
   "pygments_lexer": "ipython3",
   "version": "3.6.7"
  }
 },
 "nbformat": 4,
 "nbformat_minor": 4
}
